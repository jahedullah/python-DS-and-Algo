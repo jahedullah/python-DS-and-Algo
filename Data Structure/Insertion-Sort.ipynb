{
 "cells": [
  {
   "cell_type": "code",
   "execution_count": 26,
   "metadata": {},
   "outputs": [
    {
     "name": "stdout",
     "output_type": "stream",
     "text": [
      "[1, 23, 34, 64]\n",
      "[2, 7, 9, 11, 15, 28, 29]\n",
      "[3, 7, 9, 11]\n",
      "sorted array: [3, 7, 9, 11]\n",
      "[10, 21, 22, 25]\n",
      "sorted array: [10, 21, 22, 25]\n",
      "[15, 28, 29]\n",
      "sorted array: [15, 28, 29]\n",
      "[]\n",
      "sorted array: []\n",
      "[6]\n",
      "sorted array: [6]\n"
     ]
    }
   ],
   "source": [
    "class insertion_Sort:\n",
    "    def __init__(self):\n",
    "        self.sum=0\n",
    "#         -------------------\n",
    "        \n",
    "    \n",
    "    def insertion(self,elements):\n",
    "        for i in range(1,len(elements)):\n",
    "            j=i-1\n",
    "            anchor=elements[i]\n",
    "            while j>=0 and anchor<elements[j]:\n",
    "                elements[j+1]=elements[j]\n",
    "                j=j-1\n",
    "            elements[j+1]=anchor\n",
    "        print(elements)\n",
    "            \n",
    "            \n",
    "\n",
    "\n",
    "\n",
    "if __name__== '__main__':\n",
    "    sort=insertion_Sort()\n",
    "    sort.insertion([1,64,34,23])\n",
    "    \n",
    "    elements = [11,9,29,7,2,15,28]\n",
    "    sort.insertion(elements)\n",
    "    \n",
    "    #\n",
    "    tests = [\n",
    "        \n",
    "        [3, 7, 9, 11],\n",
    "        [25, 22, 21, 10],\n",
    "        [29, 15, 28],\n",
    "        [],\n",
    "        [6]\n",
    "    ]\n",
    "    \n",
    "    for elements in tests:\n",
    "        sort.insertion(elements)\n",
    "        print(f'sorted array: {elements}')\n",
    "\n",
    "    "
   ]
  },
  {
   "cell_type": "code",
   "execution_count": null,
   "metadata": {},
   "outputs": [],
   "source": []
  }
 ],
 "metadata": {
  "kernelspec": {
   "display_name": "Python 3",
   "language": "python",
   "name": "python3"
  },
  "language_info": {
   "codemirror_mode": {
    "name": "ipython",
    "version": 3
   },
   "file_extension": ".py",
   "mimetype": "text/x-python",
   "name": "python",
   "nbconvert_exporter": "python",
   "pygments_lexer": "ipython3",
   "version": "3.8.3"
  }
 },
 "nbformat": 4,
 "nbformat_minor": 4
}
