{
 "cells": [
  {
   "cell_type": "code",
   "execution_count": 7,
   "metadata": {},
   "outputs": [
    {
     "name": "stdout",
     "output_type": "stream",
     "text": [
      "[1, 23, 34, 64]\n",
      "[2, 7, 9, 11, 15, 28, 29]\n",
      "[3, 7, 9, 11]\n",
      "sorted array: [3, 7, 9, 11]\n",
      "[10, 21, 22, 25]\n",
      "sorted array: [10, 21, 22, 25]\n",
      "[15, 28, 29]\n",
      "sorted array: [15, 28, 29]\n",
      "[]\n",
      "sorted array: []\n",
      "[6]\n",
      "sorted array: [6]\n"
     ]
    }
   ],
   "source": [
    "class bubble_Sort:\n",
    "    def __init__(self):\n",
    "        self.sum=0\n",
    "#         -------------------\n",
    "        \n",
    "    \n",
    "    def bubble(self,elements):\n",
    "        swapped=False\n",
    "        for i in range(len(elements)-1):\n",
    "            for j in range(len(elements)-1-i):\n",
    "                \n",
    "                if elements[j]>elements[j+1]:\n",
    "                    tmp=elements[j]\n",
    "                    elements[j]=elements[j+1]\n",
    "                    elements[j+1]=tmp\n",
    "                    swapped=True\n",
    "            if not swapped:\n",
    "                break\n",
    "                    \n",
    "        print(elements)\n",
    "        \n",
    "            \n",
    "            \n",
    "            \n",
    "\n",
    "\n",
    "\n",
    "if __name__== '__main__':\n",
    "    sort=bubble_Sort()\n",
    "    sort.bubble([1,64,34,23])\n",
    "    \n",
    "    elements = [11,9,29,7,2,15,28]\n",
    "    sort.bubble(elements)\n",
    "    \n",
    "    #\n",
    "    tests = [\n",
    "        \n",
    "        [3, 7, 9, 11],\n",
    "        [25, 22, 21, 10],\n",
    "        [29, 15, 28],\n",
    "        [],\n",
    "        [6]\n",
    "    ]\n",
    "    \n",
    "    for elements in tests:\n",
    "        sort.bubble(elements)\n",
    "        print(f'sorted array: {elements}')"
   ]
  },
  {
   "cell_type": "code",
   "execution_count": 8,
   "metadata": {},
   "outputs": [
    {
     "name": "stdout",
     "output_type": "stream",
     "text": [
      "\n",
      "Note: you may need to restart the kernel to use updated packages.\n"
     ]
    },
    {
     "name": "stderr",
     "output_type": "stream",
     "text": [
      "'conda' is not recognized as an internal or external command,\n",
      "operable program or batch file.\n"
     ]
    }
   ],
   "source": [
    "conda install -c conda-forge antlr-python-runtime\n"
   ]
  },
  {
   "cell_type": "code",
   "execution_count": null,
   "metadata": {},
   "outputs": [],
   "source": []
  }
 ],
 "metadata": {
  "kernelspec": {
   "display_name": "Python 3",
   "language": "python",
   "name": "python3"
  },
  "language_info": {
   "codemirror_mode": {
    "name": "ipython",
    "version": 3
   },
   "file_extension": ".py",
   "mimetype": "text/x-python",
   "name": "python",
   "nbconvert_exporter": "python",
   "pygments_lexer": "ipython3",
   "version": "3.8.3"
  }
 },
 "nbformat": 4,
 "nbformat_minor": 4
}
