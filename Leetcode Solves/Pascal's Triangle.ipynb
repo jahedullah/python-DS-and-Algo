{
 "cells": [
  {
   "cell_type": "code",
   "execution_count": 5,
   "metadata": {},
   "outputs": [
    {
     "name": "stdout",
     "output_type": "stream",
     "text": [
      "[[1]]\n",
      "[[1], [1, 1]]\n",
      "[[1], [1, 1], [1, 2, 1]]\n",
      "[[1], [1, 1], [1, 2, 1], [1, 3, 3, 1]]\n"
     ]
    }
   ],
   "source": [
    "class Solution:\n",
    "    def generate(self, numRows):\n",
    "        \n",
    "        if numRows == 1:\n",
    "            return [[1]]\n",
    "        \n",
    "        if numRows == 2:\n",
    "            return [[1],[1,1]]\n",
    "        \n",
    "        li = [[1],[1,1]]\n",
    "        m=1\n",
    "        newli=[]\n",
    "        while (m<numRows-1):\n",
    "            newli.append(1)\n",
    "            for i in range(0,len(li[m])-1):\n",
    "                newli.append(li[m][i]+li[m][i+1])\n",
    "            newli.append(1)\n",
    "            li.append(newli)\n",
    "            newli=[]\n",
    "            m+=1\n",
    "        return li\n",
    "        \n",
    "                \n",
    "            \n",
    "        \n",
    "        \n",
    "        \n",
    "if __name__ == '__main__':\n",
    "    test_cases = [1,2,3,4]\n",
    "    \n",
    "    looper = Solution()\n",
    "    for arr in test_cases:\n",
    "        print(looper.generate(arr))\n",
    "\n",
    "        \n",
    "        "
   ]
  },
  {
   "cell_type": "code",
   "execution_count": 7,
   "metadata": {},
   "outputs": [
    {
     "name": "stdout",
     "output_type": "stream",
     "text": [
      "5\n"
     ]
    }
   ],
   "source": [
    "print(2+3)"
   ]
  },
  {
   "cell_type": "code",
   "execution_count": 3,
   "metadata": {},
   "outputs": [
    {
     "name": "stdout",
     "output_type": "stream",
     "text": [
      "2\n"
     ]
    }
   ],
   "source": [
    "li = [[1],[1,1]]\n",
    "i=0\n",
    "m=1\n",
    "print(li[m][i]+li[m][i+1])"
   ]
  },
  {
   "cell_type": "code",
   "execution_count": 8,
   "metadata": {},
   "outputs": [
    {
     "name": "stdout",
     "output_type": "stream",
     "text": [
      "[1, 1]\n",
      "[1, 1]\n",
      "[1, 2, 1]\n",
      "[1, 3, 3, 1]\n"
     ]
    }
   ],
   "source": [
    "class Solution:\n",
    "    def generate(self, rowIndex):\n",
    "        \n",
    "        if rowIndex+1 == 1:\n",
    "            return [1]\n",
    "        \n",
    "        if rowIndex+1 == 2:\n",
    "            return [1,1]\n",
    "        \n",
    "        li = [[1],[1,1]]\n",
    "        m=1\n",
    "        newli=[]\n",
    "        while (m<rowIndex-1):\n",
    "            newli.append(1)\n",
    "            for i in range(0,len(li[m])-1):\n",
    "                newli.append(li[m][i]+li[m][i+1])\n",
    "            newli.append(1)\n",
    "            li.append(newli)\n",
    "            newli=[]\n",
    "            m+=1\n",
    "        return li[rowIndex-1]\n",
    "    \n",
    "            \n",
    "if __name__ == '__main__':\n",
    "    test_cases = [1,2,3,4]\n",
    "    \n",
    "    looper = Solution()\n",
    "    for arr in test_cases:\n",
    "        print(looper.generate(arr))"
   ]
  },
  {
   "cell_type": "code",
   "execution_count": null,
   "metadata": {},
   "outputs": [],
   "source": []
  }
 ],
 "metadata": {
  "kernelspec": {
   "display_name": "Python 3",
   "language": "python",
   "name": "python3"
  },
  "language_info": {
   "codemirror_mode": {
    "name": "ipython",
    "version": 3
   },
   "file_extension": ".py",
   "mimetype": "text/x-python",
   "name": "python",
   "nbconvert_exporter": "python",
   "pygments_lexer": "ipython3",
   "version": "3.8.3"
  }
 },
 "nbformat": 4,
 "nbformat_minor": 4
}
