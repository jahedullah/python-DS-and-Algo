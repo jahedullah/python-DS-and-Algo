{
 "cells": [
  {
   "cell_type": "markdown",
   "metadata": {},
   "source": [
    "# Keyboard Row"
   ]
  },
  {
   "cell_type": "code",
   "execution_count": 7,
   "metadata": {},
   "outputs": [
    {
     "name": "stdout",
     "output_type": "stream",
     "text": [
      "H\n",
      "e\n",
      "l\n",
      "l\n",
      "o\n"
     ]
    }
   ],
   "source": [
    "a=\"Hello\"\n",
    "for i in range(0,len(a)):\n",
    "    print (a[i])"
   ]
  },
  {
   "cell_type": "code",
   "execution_count": 11,
   "metadata": {},
   "outputs": [
    {
     "name": "stdout",
     "output_type": "stream",
     "text": [
      "h\n",
      "e\n"
     ]
    }
   ],
   "source": [
    "a = ['h','e']\n",
    "for i in range(0,len(a)):\n",
    "    print (a[i])"
   ]
  },
  {
   "cell_type": "code",
   "execution_count": 14,
   "metadata": {},
   "outputs": [
    {
     "name": "stdout",
     "output_type": "stream",
     "text": [
      "hello\n"
     ]
    }
   ],
   "source": [
    "a=\"hello\"\n",
    "if 'h' in a:\n",
    "    print(\"hello\")"
   ]
  },
  {
   "cell_type": "code",
   "execution_count": 25,
   "metadata": {},
   "outputs": [
    {
     "name": "stdout",
     "output_type": "stream",
     "text": [
      "['Alaska', 'Dad']\n"
     ]
    }
   ],
   "source": [
    "class Solution(object):\n",
    "    def findWords(self, words):\n",
    "        \"\"\"\n",
    "        :type words: List[str]\n",
    "        :rtype: List[str]\n",
    "        \"\"\"\n",
    "        li=[]\n",
    "        row = [\"qwertyuiopQWERTYUIOP\",\"asdfghjklASDFGHJKL\",\"zxcvbnmZXCVBNM\"]\n",
    "        checker = [False, False, False]\n",
    "        for i in range (0,len(words)):\n",
    "            for j in range(0,len(words[i])):\n",
    "                if words[i][j] in row[0]:\n",
    "                    checker[0] = True\n",
    "                if words[i][j] in row[1]:\n",
    "                    checker[1] = True\n",
    "                if words[i][j] in row[2]:\n",
    "                    checker[2] = True\n",
    "            if sum(checker) == 1:\n",
    "                li.append(words[i])\n",
    "            checker=[False, False, False]\n",
    "        return li\n",
    "    \n",
    "if __name__ == \"__main__\":\n",
    "    \n",
    "    hello = Solution()\n",
    "    \n",
    "    tests = [\n",
    "        \n",
    "       [\"Hello\",\"Alaska\",\"Dad\",\"Peace\"]\n",
    "    ]\n",
    "        \n",
    "    for arr in tests:\n",
    "            print(hello.findWords(arr))"
   ]
  },
  {
   "cell_type": "code",
   "execution_count": null,
   "metadata": {},
   "outputs": [],
   "source": []
  }
 ],
 "metadata": {
  "kernelspec": {
   "display_name": "Python 3",
   "language": "python",
   "name": "python3"
  },
  "language_info": {
   "codemirror_mode": {
    "name": "ipython",
    "version": 3
   },
   "file_extension": ".py",
   "mimetype": "text/x-python",
   "name": "python",
   "nbconvert_exporter": "python",
   "pygments_lexer": "ipython3",
   "version": "3.8.3"
  }
 },
 "nbformat": 4,
 "nbformat_minor": 4
}
