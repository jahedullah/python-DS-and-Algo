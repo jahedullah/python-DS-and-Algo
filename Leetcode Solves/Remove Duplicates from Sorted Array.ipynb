{
 "cells": [
  {
   "cell_type": "code",
   "execution_count": 9,
   "metadata": {},
   "outputs": [
    {
     "name": "stdout",
     "output_type": "stream",
     "text": [
      "[1, 2, 3, 3, 5, 6]\n"
     ]
    },
    {
     "data": {
      "text/plain": [
       "{1, 2, 3, 5, 6}"
      ]
     },
     "execution_count": 9,
     "metadata": {},
     "output_type": "execute_result"
    }
   ],
   "source": [
    "a=[1,2,3,3,5,6]\n",
    "# a[1]='_'\n",
    "print(a)\n",
    "# for i in range(len(a)-1,0,-2):\n",
    "#     print (a[i])\n",
    "set(a)"
   ]
  },
  {
   "cell_type": "code",
   "execution_count": 1,
   "metadata": {},
   "outputs": [
    {
     "name": "stdout",
     "output_type": "stream",
     "text": [
      "[1, 2]\n"
     ]
    }
   ],
   "source": [
    "class Solution(object):\n",
    "    def removeDuplicates(self, nums):\n",
    "        \"\"\"\n",
    "        :type nums: List[int]\n",
    "        :rtype: int\n",
    "        \"\"\"\n",
    "        if len(nums)==1:\n",
    "            return nums\n",
    "        \n",
    "        temp = 0 \n",
    "        c = 0\n",
    "        emp = 0\n",
    "        for i in range(len(nums)-1,0,-1):\n",
    "            \n",
    "            if nums[i] == nums[i-1]:\n",
    "                \n",
    "                if i == len(nums)-1:\n",
    "                    nums[i] = '_'\n",
    "                    c+=1\n",
    "                    emp=i+1\n",
    "                    \n",
    "                else:    \n",
    "                    nums[i] = nums[i+1]\n",
    "                    nums[i+1] = '_'\n",
    "                    c+=1\n",
    "                    emp=i+1\n",
    "                    \n",
    "        if c==0:\n",
    "            return nums\n",
    "\n",
    "        bol = True \n",
    "        for i in range (emp,len(nums)):\n",
    "            if nums[i] == '_':\n",
    "                if bol:\n",
    "                    bol = False\n",
    "          \n",
    "            else:\n",
    "                nums[emp] = nums[i]\n",
    "                nums[i] = '_'\n",
    "                bol = True\n",
    "                emp+=1\n",
    "             \n",
    "        return nums\n",
    "\n",
    "if __name__ == \"__main__\":\n",
    "    \n",
    "    hello = Solution()\n",
    "    print(hello.removeDuplicates([1,2]))\n",
    "\n",
    "            \n",
    "                \n",
    "            "
   ]
  },
  {
   "cell_type": "code",
   "execution_count": null,
   "metadata": {},
   "outputs": [],
   "source": []
  }
 ],
 "metadata": {
  "kernelspec": {
   "display_name": "Python 3",
   "language": "python",
   "name": "python3"
  },
  "language_info": {
   "codemirror_mode": {
    "name": "ipython",
    "version": 3
   },
   "file_extension": ".py",
   "mimetype": "text/x-python",
   "name": "python",
   "nbconvert_exporter": "python",
   "pygments_lexer": "ipython3",
   "version": "3.8.3"
  }
 },
 "nbformat": 4,
 "nbformat_minor": 4
}
