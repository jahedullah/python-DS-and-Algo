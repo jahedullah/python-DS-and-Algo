{
 "cells": [
  {
   "cell_type": "code",
   "execution_count": 7,
   "metadata": {},
   "outputs": [
    {
     "name": "stdout",
     "output_type": "stream",
     "text": [
      "8\n",
      "0\n",
      "13\n",
      "0\n"
     ]
    }
   ],
   "source": [
    "class Solution(object):\n",
    "    def maxProfit(self, prices):\n",
    "        \n",
    "        if len(prices) == 1:\n",
    "            return 0\n",
    "        \n",
    "        k=0\n",
    "        init = prices[0]\n",
    "        \n",
    "        check_i,check_j = 0\n",
    "        for i in range (0,len(prices)-1):\n",
    "            if prices[i] <= init:\n",
    "                init = prices[i]\n",
    "                for j in range(i+1,len(prices)):\n",
    "                    if prices[i] < prices[j]:\n",
    "                        if (prices[j] - prices[i]) > k:\n",
    "                            k = prices[j] - prices[i]\n",
    "                            check_i = i\n",
    "                            check_j = j\n",
    "                \n",
    "                    \n",
    "        \n",
    "        return k\n",
    "        \n",
    "        \n",
    "        \n",
    "        \n",
    "if __name__ == \"__main__\":\n",
    "    \n",
    "    hello = Solution()\n",
    "    \n",
    "    tests = [\n",
    "        \n",
    "        [3, 7, 9, 11],\n",
    "        [25, 22, 21, 10],\n",
    "        [29, 15, 28],\n",
    "       \n",
    "        [6]\n",
    "    ]\n",
    "        \n",
    "    for arr in tests:\n",
    "            print(hello.maxProfit(arr))"
   ]
  },
  {
   "cell_type": "code",
   "execution_count": null,
   "metadata": {},
   "outputs": [],
   "source": []
  }
 ],
 "metadata": {
  "kernelspec": {
   "display_name": "Python 3",
   "language": "python",
   "name": "python3"
  },
  "language_info": {
   "codemirror_mode": {
    "name": "ipython",
    "version": 3
   },
   "file_extension": ".py",
   "mimetype": "text/x-python",
   "name": "python",
   "nbconvert_exporter": "python",
   "pygments_lexer": "ipython3",
   "version": "3.8.3"
  }
 },
 "nbformat": 4,
 "nbformat_minor": 4
}
